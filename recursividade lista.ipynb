{
 "cells": [
  {
   "cell_type": "code",
   "execution_count": 6,
   "metadata": {},
   "outputs": [
    {
     "name": "stdout",
     "output_type": "stream",
     "text": [
      "{'nome': 'Pessoa 1', 'rua': 'Rua 1', 'número': '100', 'cep': '10000', 'cpf': '10000000000', 'sexo': 'Masculino', 'horas_trabalhadas': [37, 16, 26, 30, 4], 'tem_dependentes': 'Sim'}\n",
      "{'nome': 'Pessoa 2', 'rua': 'Rua 2', 'número': '101', 'cep': '10001', 'cpf': '10000000001', 'sexo': 'Masculino', 'horas_trabalhadas': [33, 24, 15, 30, 38], 'tem_dependentes': 'Sim'}\n",
      "{'nome': 'Pessoa 3', 'rua': 'Rua 3', 'número': '102', 'cep': '10002', 'cpf': '10000000002', 'sexo': 'Feminino', 'horas_trabalhadas': [0, 38, 31, 12, 25], 'tem_dependentes': 'Sim'}\n",
      "{'nome': 'Pessoa 4', 'rua': 'Rua 4', 'número': '103', 'cep': '10003', 'cpf': '10000000003', 'sexo': 'Masculino', 'horas_trabalhadas': [11, 28, 11, 17, 20], 'tem_dependentes': 'Não'}\n",
      "{'nome': 'Pessoa 5', 'rua': 'Rua 5', 'número': '104', 'cep': '10004', 'cpf': '10000000004', 'sexo': 'Feminino', 'horas_trabalhadas': [1, 38, 3, 18, 37], 'tem_dependentes': 'Não'}\n",
      "{'nome': 'Pessoa 6', 'rua': 'Rua 6', 'número': '105', 'cep': '10005', 'cpf': '10000000005', 'sexo': 'Feminino', 'horas_trabalhadas': [6, 29, 0, 35, 21], 'tem_dependentes': 'Não'}\n",
      "{'nome': 'Pessoa 7', 'rua': 'Rua 7', 'número': '106', 'cep': '10006', 'cpf': '10000000006', 'sexo': 'Masculino', 'horas_trabalhadas': [22, 6, 1, 12, 27], 'tem_dependentes': 'Não'}\n",
      "{'nome': 'Pessoa 8', 'rua': 'Rua 8', 'número': '107', 'cep': '10007', 'cpf': '10000000007', 'sexo': 'Feminino', 'horas_trabalhadas': [39, 39, 13, 7, 25], 'tem_dependentes': 'Sim'}\n",
      "{'nome': 'Pessoa 9', 'rua': 'Rua 9', 'número': '108', 'cep': '10008', 'cpf': '10000000008', 'sexo': 'Feminino', 'horas_trabalhadas': [18, 39, 32, 26, 37], 'tem_dependentes': 'Sim'}\n",
      "{'nome': 'Pessoa 10', 'rua': 'Rua 10', 'número': '109', 'cep': '10009', 'cpf': '10000000009', 'sexo': 'Masculino', 'horas_trabalhadas': [0, 8, 9, 28, 4], 'tem_dependentes': 'Sim'}\n",
      "{'nome': 'Pessoa 11', 'rua': 'Rua 11', 'número': '110', 'cep': '10010', 'cpf': '10000000010', 'sexo': 'Masculino', 'horas_trabalhadas': [19, 10, 23, 7, 26], 'tem_dependentes': 'Sim'}\n",
      "{'nome': 'Pessoa 12', 'rua': 'Rua 12', 'número': '111', 'cep': '10011', 'cpf': '10000000011', 'sexo': 'Masculino', 'horas_trabalhadas': [9, 13, 0, 3, 31], 'tem_dependentes': 'Não'}\n",
      "{'nome': 'Pessoa 13', 'rua': 'Rua 13', 'número': '112', 'cep': '10012', 'cpf': '10000000012', 'sexo': 'Masculino', 'horas_trabalhadas': [7, 11, 24, 22, 25], 'tem_dependentes': 'Sim'}\n",
      "{'nome': 'Pessoa 14', 'rua': 'Rua 14', 'número': '113', 'cep': '10013', 'cpf': '10000000013', 'sexo': 'Feminino', 'horas_trabalhadas': [32, 27, 8, 33, 18], 'tem_dependentes': 'Sim'}\n",
      "{'nome': 'Pessoa 15', 'rua': 'Rua 15', 'número': '114', 'cep': '10014', 'cpf': '10000000014', 'sexo': 'Masculino', 'horas_trabalhadas': [13, 8, 30, 2, 40], 'tem_dependentes': 'Sim'}\n",
      "{'nome': 'Pessoa 16', 'rua': 'Rua 16', 'número': '115', 'cep': '10015', 'cpf': '10000000015', 'sexo': 'Masculino', 'horas_trabalhadas': [28, 25, 40, 10, 36], 'tem_dependentes': 'Sim'}\n",
      "{'nome': 'Pessoa 17', 'rua': 'Rua 17', 'número': '116', 'cep': '10016', 'cpf': '10000000016', 'sexo': 'Masculino', 'horas_trabalhadas': [4, 39, 21, 1, 17], 'tem_dependentes': 'Não'}\n",
      "{'nome': 'Pessoa 18', 'rua': 'Rua 18', 'número': '117', 'cep': '10017', 'cpf': '10000000017', 'sexo': 'Masculino', 'horas_trabalhadas': [20, 37, 8, 14, 34], 'tem_dependentes': 'Não'}\n",
      "{'nome': 'Pessoa 19', 'rua': 'Rua 19', 'número': '118', 'cep': '10018', 'cpf': '10000000018', 'sexo': 'Feminino', 'horas_trabalhadas': [13, 10, 39, 10, 37], 'tem_dependentes': 'Não'}\n",
      "{'nome': 'Pessoa 20', 'rua': 'Rua 20', 'número': '119', 'cep': '10019', 'cpf': '10000000019', 'sexo': 'Masculino', 'horas_trabalhadas': [20, 20, 4, 26, 38], 'tem_dependentes': 'Sim'}\n",
      "{'nome': 'Pessoa 21', 'rua': 'Rua 21', 'número': '120', 'cep': '10020', 'cpf': '10000000020', 'sexo': 'Masculino', 'horas_trabalhadas': [37, 18, 20, 34, 18], 'tem_dependentes': 'Sim'}\n",
      "{'nome': 'Pessoa 22', 'rua': 'Rua 22', 'número': '121', 'cep': '10021', 'cpf': '10000000021', 'sexo': 'Feminino', 'horas_trabalhadas': [26, 15, 10, 30, 5], 'tem_dependentes': 'Sim'}\n",
      "{'nome': 'Pessoa 23', 'rua': 'Rua 23', 'número': '122', 'cep': '10022', 'cpf': '10000000022', 'sexo': 'Feminino', 'horas_trabalhadas': [27, 0, 4, 24, 21], 'tem_dependentes': 'Sim'}\n",
      "{'nome': 'Pessoa 24', 'rua': 'Rua 24', 'número': '123', 'cep': '10023', 'cpf': '10000000023', 'sexo': 'Feminino', 'horas_trabalhadas': [20, 5, 16, 23, 23], 'tem_dependentes': 'Sim'}\n",
      "{'nome': 'Pessoa 25', 'rua': 'Rua 25', 'número': '124', 'cep': '10024', 'cpf': '10000000024', 'sexo': 'Feminino', 'horas_trabalhadas': [37, 1, 31, 7, 14], 'tem_dependentes': 'Não'}\n",
      "{'nome': 'Pessoa 26', 'rua': 'Rua 26', 'número': '125', 'cep': '10025', 'cpf': '10000000025', 'sexo': 'Masculino', 'horas_trabalhadas': [29, 33, 0, 5, 34], 'tem_dependentes': 'Não'}\n",
      "{'nome': 'Pessoa 27', 'rua': 'Rua 27', 'número': '126', 'cep': '10026', 'cpf': '10000000026', 'sexo': 'Masculino', 'horas_trabalhadas': [40, 38, 34, 27, 18], 'tem_dependentes': 'Não'}\n",
      "{'nome': 'Pessoa 28', 'rua': 'Rua 28', 'número': '127', 'cep': '10027', 'cpf': '10000000027', 'sexo': 'Masculino', 'horas_trabalhadas': [19, 0, 12, 19, 33], 'tem_dependentes': 'Não'}\n",
      "{'nome': 'Pessoa 29', 'rua': 'Rua 29', 'número': '128', 'cep': '10028', 'cpf': '10000000028', 'sexo': 'Masculino', 'horas_trabalhadas': [38, 27, 0, 32, 7], 'tem_dependentes': 'Sim'}\n",
      "{'nome': 'Pessoa 30', 'rua': 'Rua 30', 'número': '129', 'cep': '10029', 'cpf': '10000000029', 'sexo': 'Feminino', 'horas_trabalhadas': [7, 31, 13, 22, 8], 'tem_dependentes': 'Sim'}\n",
      "{'nome': 'Pessoa 31', 'rua': 'Rua 31', 'número': '130', 'cep': '10030', 'cpf': '10000000030', 'sexo': 'Masculino', 'horas_trabalhadas': [15, 33, 10, 16, 28], 'tem_dependentes': 'Não'}\n",
      "{'nome': 'Pessoa 32', 'rua': 'Rua 32', 'número': '131', 'cep': '10031', 'cpf': '10000000031', 'sexo': 'Feminino', 'horas_trabalhadas': [15, 13, 28, 28, 39], 'tem_dependentes': 'Sim'}\n",
      "{'nome': 'Pessoa 33', 'rua': 'Rua 33', 'número': '132', 'cep': '10032', 'cpf': '10000000032', 'sexo': 'Masculino', 'horas_trabalhadas': [18, 0, 15, 31, 31], 'tem_dependentes': 'Não'}\n",
      "{'nome': 'Pessoa 34', 'rua': 'Rua 34', 'número': '133', 'cep': '10033', 'cpf': '10000000033', 'sexo': 'Masculino', 'horas_trabalhadas': [13, 12, 22, 3, 20], 'tem_dependentes': 'Sim'}\n",
      "{'nome': 'Pessoa 35', 'rua': 'Rua 35', 'número': '134', 'cep': '10034', 'cpf': '10000000034', 'sexo': 'Feminino', 'horas_trabalhadas': [9, 3, 18, 6, 26], 'tem_dependentes': 'Não'}\n",
      "{'nome': 'Pessoa 36', 'rua': 'Rua 36', 'número': '135', 'cep': '10035', 'cpf': '10000000035', 'sexo': 'Feminino', 'horas_trabalhadas': [9, 27, 29, 10, 22], 'tem_dependentes': 'Sim'}\n",
      "{'nome': 'Pessoa 37', 'rua': 'Rua 37', 'número': '136', 'cep': '10036', 'cpf': '10000000036', 'sexo': 'Feminino', 'horas_trabalhadas': [16, 26, 4, 26, 7], 'tem_dependentes': 'Sim'}\n",
      "{'nome': 'Pessoa 38', 'rua': 'Rua 38', 'número': '137', 'cep': '10037', 'cpf': '10000000037', 'sexo': 'Feminino', 'horas_trabalhadas': [26, 16, 18, 37, 3], 'tem_dependentes': 'Não'}\n",
      "{'nome': 'Pessoa 39', 'rua': 'Rua 39', 'número': '138', 'cep': '10038', 'cpf': '10000000038', 'sexo': 'Masculino', 'horas_trabalhadas': [32, 16, 10, 13, 7], 'tem_dependentes': 'Não'}\n",
      "{'nome': 'Pessoa 40', 'rua': 'Rua 40', 'número': '139', 'cep': '10039', 'cpf': '10000000039', 'sexo': 'Feminino', 'horas_trabalhadas': [22, 25, 5, 0, 21], 'tem_dependentes': 'Sim'}\n",
      "{'nome': 'Pessoa 41', 'rua': 'Rua 41', 'número': '140', 'cep': '10040', 'cpf': '10000000040', 'sexo': 'Masculino', 'horas_trabalhadas': [35, 36, 16, 36, 33], 'tem_dependentes': 'Sim'}\n",
      "{'nome': 'Pessoa 42', 'rua': 'Rua 42', 'número': '141', 'cep': '10041', 'cpf': '10000000041', 'sexo': 'Masculino', 'horas_trabalhadas': [26, 1, 12, 12, 18], 'tem_dependentes': 'Sim'}\n",
      "{'nome': 'Pessoa 43', 'rua': 'Rua 43', 'número': '142', 'cep': '10042', 'cpf': '10000000042', 'sexo': 'Masculino', 'horas_trabalhadas': [8, 14, 16, 32, 18], 'tem_dependentes': 'Não'}\n",
      "{'nome': 'Pessoa 44', 'rua': 'Rua 44', 'número': '143', 'cep': '10043', 'cpf': '10000000043', 'sexo': 'Masculino', 'horas_trabalhadas': [27, 4, 34, 12, 21], 'tem_dependentes': 'Sim'}\n",
      "{'nome': 'Pessoa 45', 'rua': 'Rua 45', 'número': '144', 'cep': '10044', 'cpf': '10000000044', 'sexo': 'Masculino', 'horas_trabalhadas': [36, 36, 27, 29, 10], 'tem_dependentes': 'Não'}\n",
      "{'nome': 'Pessoa 46', 'rua': 'Rua 46', 'número': '145', 'cep': '10045', 'cpf': '10000000045', 'sexo': 'Feminino', 'horas_trabalhadas': [4, 9, 22, 14, 8], 'tem_dependentes': 'Não'}\n",
      "{'nome': 'Pessoa 47', 'rua': 'Rua 47', 'número': '146', 'cep': '10046', 'cpf': '10000000046', 'sexo': 'Feminino', 'horas_trabalhadas': [18, 39, 29, 31, 35], 'tem_dependentes': 'Não'}\n",
      "{'nome': 'Pessoa 48', 'rua': 'Rua 48', 'número': '147', 'cep': '10047', 'cpf': '10000000047', 'sexo': 'Masculino', 'horas_trabalhadas': [25, 38, 5, 7, 12], 'tem_dependentes': 'Não'}\n",
      "{'nome': 'Pessoa 49', 'rua': 'Rua 49', 'número': '148', 'cep': '10048', 'cpf': '10000000048', 'sexo': 'Feminino', 'horas_trabalhadas': [20, 37, 39, 9, 10], 'tem_dependentes': 'Não'}\n",
      "{'nome': 'Pessoa 50', 'rua': 'Rua 50', 'número': '149', 'cep': '10049', 'cpf': '10000000049', 'sexo': 'Feminino', 'horas_trabalhadas': [22, 4, 8, 26, 12], 'tem_dependentes': 'Sim'}\n"
     ]
    }
   ],
   "source": [
    "import random\n",
    "\n",
    "def criar_registro_pessoa(indice):\n",
    "    \n",
    "    if indice >= 50:\n",
    "        return []\n",
    "    \n",
    "    # Gerar dados fictícios\n",
    "    nome = f\"Pessoa {indice + 1}\"\n",
    "    rua = f\"Rua {indice + 1}\"\n",
    "    numero = str(100 + indice)\n",
    "    cep = f\"{10000 + indice:05d}\"\n",
    "    cpf = f\"{10000000000 + indice:011d}\"  \n",
    "    sexo = random.choice([\"Masculino\", \"Feminino\"])\n",
    "    horas_trabalhadas = [random.randint(0, 40) for _ in range(5)]  \n",
    "    tem_dependentes = random.choice(['Sim', 'Não'])\n",
    "    \n",
    "    # Criar o registro da pessoa\n",
    "    registro = {\n",
    "        \"nome\": nome,\n",
    "        \"rua\": rua,\n",
    "        \"número\": numero,\n",
    "        \"cep\": cep,\n",
    "        \"cpf\": cpf,\n",
    "        \"sexo\": sexo,\n",
    "        \"horas_trabalhadas\": horas_trabalhadas,\n",
    "        \"tem_dependentes\": tem_dependentes\n",
    "    }\n",
    "    \n",
    "    \n",
    "    return [registro] + criar_registro_pessoa(indice + 1)\n",
    "\n",
    "\n",
    "lista_pessoas = criar_registro_pessoa(0)\n",
    "\n",
    "\n",
    "for pessoa in lista_pessoas:\n",
    "    print(pessoa)\n"
   ]
  },
  {
   "cell_type": "code",
   "execution_count": 3,
   "metadata": {},
   "outputs": [
    {
     "name": "stdout",
     "output_type": "stream",
     "text": [
      "A soma dos elementos do vetor é: 15\n"
     ]
    }
   ],
   "source": [
    "def soma_vetor(vetor, pos=0):\n",
    "    \n",
    "    if pos >= len(vetor):\n",
    "        return 0\n",
    "    \n",
    "    else:\n",
    "        return vetor[pos] + soma_vetor(vetor, pos + 1)\n",
    "\n",
    "vetor = [1, 2, 3, 4, 5]\n",
    "\n",
    "print(\"A soma dos elementos do vetor é:\", soma_vetor(vetor))\n"
   ]
  },
  {
   "cell_type": "code",
   "execution_count": 5,
   "metadata": {},
   "outputs": [
    {
     "name": "stdout",
     "output_type": "stream",
     "text": [
      "A soma de 1 até 5 é: 15\n"
     ]
    }
   ],
   "source": [
    "def somatorio(N):\n",
    "    if N==1:\n",
    "        return 1\n",
    "    else:\n",
    "        return N+ somatorio(N-1)\n",
    "\n",
    "N=5\n",
    "print(\"A soma de 1 até\", N, \"é:\", somatorio(N))"
   ]
  }
 ],
 "metadata": {
  "kernelspec": {
   "display_name": "Python 3",
   "language": "python",
   "name": "python3"
  },
  "language_info": {
   "codemirror_mode": {
    "name": "ipython",
    "version": 3
   },
   "file_extension": ".py",
   "mimetype": "text/x-python",
   "name": "python",
   "nbconvert_exporter": "python",
   "pygments_lexer": "ipython3",
   "version": "3.10.11"
  }
 },
 "nbformat": 4,
 "nbformat_minor": 2
}
