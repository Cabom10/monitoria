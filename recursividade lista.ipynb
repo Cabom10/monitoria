{
 "cells": [
  {
   "cell_type": "code",
   "execution_count": 22,
   "metadata": {},
   "outputs": [],
   "source": [
    "class Pessoa:\n",
    "    def __init__(self, nome, rua, numero, cep, cpf, sexo, horas_trabalhadas, tem_dependentes):\n",
    "        self.nome = nome\n",
    "        self.rua = rua\n",
    "        self.numero = numero\n",
    "        self.cep = cep\n",
    "        self.cpf = cpf\n",
    "        self.sexo = sexo\n",
    "        self.horas_trabalhadas = horas_trabalhadas  # Deve ser uma lista com 5 elementos\n",
    "        self.tem_dependentes = tem_dependentes\n",
    "\n",
    "# Criar uma lista de 50 pessoas (inicialmente vazia)\n",
    "lista_de_pessoas = []\n",
    "\n",
    "# Exemplo de inicialização de um registro de pessoa e adição à lista\n",
    "pessoa1 = Pessoa(\n",
    "    nome=\"João Silva\",\n",
    "    rua=\"Av. Principal\",\n",
    "    numero=123,\n",
    "    cep=\"12345-678\",\n",
    "    cpf=\"123.456.789-00\",\n",
    "    sexo='M',\n",
    "    horas_trabalhadas=[40, 38, 42, 35, 37],  # Exemplo de horas trabalhadas nas últimas 5 semanas\n",
    "    tem_dependentes=True\n",
    ")\n",
    "\n",
    "# Adicionar pessoa1 à lista de pessoas\n",
    "lista_de_pessoas.append(pessoa1)\n",
    "\n",
    "# Exemplo de adicionar mais pessoas à lista\n",
    "for i in range(49):  # Já temos 1 pessoa, então adicionamos mais 49\n",
    "    pessoa = Pessoa(\n",
    "        nome=f\"Pessoa {i+2}\",\n",
    "        rua=\"Rua Exemplo\",\n",
    "        numero=i+1,\n",
    "        cep=\"00000-000\",\n",
    "        cpf=f\"000.000.000-{i:02d}\",\n",
    "        sexo='F' if i % 2 == 0 else 'M',\n",
    "        horas_trabalhadas=[40, 40, 40, 40, 40],  # Exemplo de horas trabalhadas\n",
    "        tem_dependentes=False if i % 2 == 0 else True\n",
    "    )\n",
    "    lista_de_pessoas.append(pessoa)\n"
   ]
  },
  {
   "cell_type": "code",
   "execution_count": 21,
   "metadata": {},
   "outputs": [
    {
     "name": "stdout",
     "output_type": "stream",
     "text": [
      "A soma dos elementos do vetor é: 15\n"
     ]
    }
   ],
   "source": [
    "def soma_vetor(vetor):\n",
    "    # Caso base: se o vetor estiver vazio, a soma é 0\n",
    "    if len(vetor) == 0:\n",
    "        return 0\n",
    "    # Caso recursivo: soma o primeiro elemento com a soma do restante do vetor\n",
    "    else:\n",
    "        return vetor[0] + soma_vetor(vetor[1:])\n",
    "\n",
    "# Exemplo de uso\n",
    "vetor = [1, 2, 3, 4, 5]\n",
    "resultado = soma_vetor(vetor)\n",
    "print(\"A soma dos elementos do vetor é:\", resultado)\n"
   ]
  }
 ],
 "metadata": {
  "kernelspec": {
   "display_name": "Python 3",
   "language": "python",
   "name": "python3"
  },
  "language_info": {
   "codemirror_mode": {
    "name": "ipython",
    "version": 3
   },
   "file_extension": ".py",
   "mimetype": "text/x-python",
   "name": "python",
   "nbconvert_exporter": "python",
   "pygments_lexer": "ipython3",
   "version": "3.10.11"
  }
 },
 "nbformat": 4,
 "nbformat_minor": 2
}
