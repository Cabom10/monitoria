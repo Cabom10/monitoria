{
 "cells": [
  {
   "cell_type": "code",
   "execution_count": null,
   "metadata": {},
   "outputs": [],
   "source": [
    "def simular_movimento_robo(energia_blocos):\n",
    "    posicao = 0  # O robô começa no bloco 1 (índice 0)\n",
    "    blocos_visitados = set()  # Conjunto para rastrear os blocos visitados\n",
    "    total_blocos = len(energia_blocos)  # Número total de blocos\n",
    "    movimentos = 0  # Contador de blocos visitados\n",
    "\n",
    "    while energia_blocos[posicao] > 0:\n",
    "        # O robô visita o bloco atual\n",
    "        blocos_visitados.add(posicao)\n",
    "        movimentos += 1\n",
    "        \n",
    "        # Robô consome 1 unidade de energia do bloco atual\n",
    "        energia_blocos[posicao] -= 1\n",
    "        \n",
    "        # Verifica a quantidade de energia no bloco atual para decidir o movimento\n",
    "        if energia_blocos[posicao] > 3:\n",
    "            posicao = (posicao + 2) % total_blocos  # Avança 2 blocos (lista circular)\n",
    "        else:\n",
    "            posicao = (posicao - 1) % total_blocos  # Recuar 1 bloco (lista circular)\n",
    "    \n",
    "    # Exibindo os resultados\n",
    "    print(f\"Total de blocos visitados pelo robô: {len(blocos_visitados)}\")\n",
    "    print(\"Energia restante em cada bloco:\")\n",
    "    for i, energia in enumerate(energia_blocos):\n",
    "        print(f\"Bloco {i+1}: {energia} unidades de energia\")\n",
    "\n",
    "# Exemplo de uso\n",
    "# Lista de energias dos blocos, pode ser substituída por uma entrada do usuário\n",
    "energia_blocos = [5, 3, 4, 2, 7, 6, 0, 3, 8, 1] + [5]*90  # Exemplo com 100 blocos\n",
    "simular_movimento_robo(energia_blocos)\n"
   ]
  },
  {
   "cell_type": "code",
   "execution_count": 7,
   "metadata": {},
   "outputs": [
    {
     "name": "stdout",
     "output_type": "stream",
     "text": [
      "150\n"
     ]
    }
   ],
   "source": [
    "# Definindo a estrutura de registro\n",
    "class Registro:\n",
    "    def __init__(self, valor, peso):\n",
    "        self.valor = valor\n",
    "        self.peso = peso\n",
    "\n",
    "# Criando a matriz de registros\n",
    "matriz = [\n",
    "    [Registro(2, 1), Registro(4, 3)],\n",
    "    [Registro(6, 2), Registro(1, 5)],\n",
    "    [Registro(3, 4), Registro(5, 6)]\n",
    "]\n",
    "\n",
    "# Inicializando o vetor e a soma\n",
    "vetor = [0, 0]\n",
    "soma = 0\n",
    "\n",
    "# Preenchendo o vetor com base na matriz\n",
    "for i in range(3):\n",
    "    for j in range(2):\n",
    "        vetor[j] += matriz[i][j].valor * matriz[j][j % 2].peso\n",
    "\n",
    "# Calculando a soma condicional\n",
    "for k in range(2):\n",
    "    if vetor[k] > 15:\n",
    "        soma += vetor[k] * (k + 2)\n",
    "\n",
    "# Exibindo o resultado\n",
    "print(soma)\n"
   ]
  }
 ],
 "metadata": {
  "kernelspec": {
   "display_name": "Python 3",
   "language": "python",
   "name": "python3"
  },
  "language_info": {
   "codemirror_mode": {
    "name": "ipython",
    "version": 3
   },
   "file_extension": ".py",
   "mimetype": "text/x-python",
   "name": "python",
   "nbconvert_exporter": "python",
   "pygments_lexer": "ipython3",
   "version": "3.10.11"
  }
 },
 "nbformat": 4,
 "nbformat_minor": 2
}
