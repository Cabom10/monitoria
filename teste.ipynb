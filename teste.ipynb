{
 "cells": [
  {
   "cell_type": "code",
   "execution_count": null,
   "metadata": {},
   "outputs": [],
   "source": []
  },
  {
   "cell_type": "code",
   "execution_count": 8,
   "metadata": {},
   "outputs": [
    {
     "name": "stdout",
     "output_type": "stream",
     "text": [
      "Matriz 3x3:\n",
      "1 2 3 \n",
      "4 5 6 \n",
      "7 8 9 \n"
     ]
    }
   ],
   "source": [
    "#joão marcos matriz\n",
    "\n",
    "linhas = int(input(\"Digite o número de linhas: \"))\n",
    "colunas = int(input(\"Digite o número de colunas: \"))\n",
    "matriz = []\n",
    "\n",
    "for i in range(linhas):\n",
    "    linha = []\n",
    "    for j in range(colunas):\n",
    "        numero = int(input(f\"Digite um número para a posição ({i},{j}): \"))\n",
    "        linha.append(numero)\n",
    "    matriz.append(linha)\n",
    "\n",
    "print(f\"Matriz {i+1}x{j+1}:\")\n",
    "for linha in matriz:\n",
    "    for numero in linha:\n",
    "        print(numero, end=\" \")\n",
    "    print()  # esse print é para descer para a proxima linha da matriz\n",
    "\n",
    "\n"
   ]
  },
  {
   "cell_type": "code",
   "execution_count": 2,
   "metadata": {},
   "outputs": [
    {
     "ename": "ValueError",
     "evalue": "invalid literal for int() with base 10: ''",
     "output_type": "error",
     "traceback": [
      "\u001b[1;31m---------------------------------------------------------------------------\u001b[0m",
      "\u001b[1;31mValueError\u001b[0m                                Traceback (most recent call last)",
      "Cell \u001b[1;32mIn[2], line 15\u001b[0m\n\u001b[0;32m     10\u001b[0m     \u001b[38;5;28;01melse\u001b[39;00m:\n\u001b[0;32m     11\u001b[0m         \u001b[38;5;28;01mreturn\u001b[39;00m \u001b[38;5;28;01mFalse\u001b[39;00m\n\u001b[1;32m---> 15\u001b[0m a\u001b[38;5;241m=\u001b[39m\u001b[38;5;28;43mint\u001b[39;49m\u001b[43m(\u001b[49m\u001b[38;5;28;43minput\u001b[39;49m\u001b[43m(\u001b[49m\u001b[38;5;124;43m\"\u001b[39;49m\u001b[38;5;124;43mDigite: \u001b[39;49m\u001b[38;5;124;43m\"\u001b[39;49m\u001b[43m)\u001b[49m\u001b[43m)\u001b[49m\n\u001b[0;32m     16\u001b[0m b\u001b[38;5;241m=\u001b[39m\u001b[38;5;28mint\u001b[39m(\u001b[38;5;28minput\u001b[39m(\u001b[38;5;124m\"\u001b[39m\u001b[38;5;124mDigite: \u001b[39m\u001b[38;5;124m\"\u001b[39m)) \u001b[38;5;66;03m#leia(x)\u001b[39;00m\n\u001b[0;32m     17\u001b[0m c\u001b[38;5;241m=\u001b[39m\u001b[38;5;28mint\u001b[39m(\u001b[38;5;28minput\u001b[39m(\u001b[38;5;124m\"\u001b[39m\u001b[38;5;124mDigite: \u001b[39m\u001b[38;5;124m\"\u001b[39m))\n",
      "\u001b[1;31mValueError\u001b[0m: invalid literal for int() with base 10: ''"
     ]
    }
   ],
   "source": [
    "def triangRetang(x,y,z):\n",
    "    lados=[x,y,z]\n",
    "    lados.sort()\n",
    "    hipotenusa= lados[2]\n",
    "    lado1= lados[0]\n",
    "    lado2=lados[1]\n",
    "    \n",
    "    if hipotenusa**2 == lado1 **2 + lado2**2:\n",
    "        return True\n",
    "    else:\n",
    "        return False\n",
    "\n",
    "\n",
    "\n",
    "a=int(input(\"Digite: \"))\n",
    "b=int(input(\"Digite: \")) #leia(x)\n",
    "c=int(input(\"Digite: \"))\n",
    "\n",
    "\n",
    "triangRetang(a,b,c)\n",
    "\n"
   ]
  },
  {
   "cell_type": "code",
   "execution_count": 13,
   "metadata": {},
   "outputs": [
    {
     "ename": "IndentationError",
     "evalue": "expected an indented block after 'if' statement on line 10 (3294441754.py, line 13)",
     "output_type": "error",
     "traceback": [
      "\u001b[1;36m  Cell \u001b[1;32mIn[13], line 13\u001b[1;36m\u001b[0m\n\u001b[1;33m    120//100 1,2 -- 1\u001b[0m\n\u001b[1;37m                     ^\u001b[0m\n\u001b[1;31mIndentationError\u001b[0m\u001b[1;31m:\u001b[0m expected an indented block after 'if' statement on line 10\n"
     ]
    }
   ],
   "source": [
    "\n",
    "unidades=['','um','dois','onze']\n",
    "dezenas=['','dez','vinte']\n",
    "centenas=['','cento','duzentos']\n",
    "milhares=['','mil','milhões','bilhoes']\n",
    "\n",
    "while numero>0:\n",
    "    if numero%1000 !=0:\n",
    "\n",
    "\n",
    "120//100 1,2 -- 1\n",
    "\n",
    "\n",
    "numero -- 120\n",
    "numero -- 20\n",
    "\n",
    "\n",
    "\n",
    "if>= 100:\n",
    "    extenso += centenas[numero//100]\n",
    "    numero %= 100\n",
    "    if numero !=0:\n",
    "        extenso +=  'e'\n",
    "\n",
    "\n",
    "\n",
    "if >=20:\n",
    "    extenso +=dezenas[numero//10]\n",
    "    numero %= 10\n",
    "    if numero !=0:\n",
    "        extenso +=  'e'\n",
    "\n",
    "\n",
    "\n",
    "\n",
    "\n"
   ]
  },
  {
   "cell_type": "code",
   "execution_count": 18,
   "metadata": {},
   "outputs": [
    {
     "name": "stdout",
     "output_type": "stream",
     "text": [
      "O número por extenso é: novecentos e noventa e nove milhões e novecentos e noventa e nove mil e novecentos e noventa e nove\n"
     ]
    }
   ],
   "source": [
    "#questão 9 \n",
    "def numero_por_extenso(numero):\n",
    "    unidades = ['', 'um', 'dois', 'três', 'quatro', 'cinco', 'seis', 'sete', 'oito', 'nove', 'dez', 'onze', 'doze', 'treze', 'catorze', 'quinze', 'dezesseis', 'dezessete', 'dezoito', 'dezenove']\n",
    "    dezenas = ['', 'dez', 'vinte', 'trinta', 'quarenta', 'cinquenta', 'sessenta', 'setenta', 'oitenta', 'noventa']\n",
    "    centenas = ['', 'cento', 'duzentos', 'trezentos', 'quatrocentos', 'quinhentos', 'seiscentos', 'setecentos', 'oitocentos', 'novecentos']\n",
    "    milhares = ['', 'mil', 'milhões', 'bilhões']\n",
    "\n",
    "    if numero == 0:\n",
    "        return 'zero'\n",
    "\n",
    "    extenso = ''\n",
    "    parte = 0\n",
    "\n",
    "    while numero > 0:\n",
    "        if numero % 1000 != 0:\n",
    "            extenso_parte = numero_por_extenso_parte(numero % 1000, unidades, dezenas, centenas)\n",
    "            if extenso:\n",
    "                extenso = f'{extenso_parte} {milhares[parte]} e {extenso}'\n",
    "            else:\n",
    "                extenso = f'{extenso_parte} {milhares[parte]}'\n",
    "        numero //= 1000\n",
    "        parte += 1\n",
    "\n",
    "    return extenso.strip()\n",
    "\n",
    "def numero_por_extenso_parte(numero, unidades, dezenas, centenas):\n",
    "    extenso = ''\n",
    "\n",
    "    if numero >= 100:\n",
    "        extenso += centenas[numero // 100]\n",
    "        numero %= 100\n",
    "        if numero != 0:\n",
    "            extenso += ' e '\n",
    "\n",
    "    if numero >= 20:\n",
    "        extenso += dezenas[numero // 10]\n",
    "        numero %= 10\n",
    "        if numero != 0:\n",
    "            extenso += ' e '\n",
    "\n",
    "    if numero > 0:\n",
    "        extenso += unidades[numero]\n",
    "\n",
    "    return extenso.strip()\n",
    "\n",
    "def escreva():\n",
    "    numero = int(input(\"Digite um número de até 9 dígitos: \"))\n",
    "\n",
    "    if 0 <= numero <= 999999999:\n",
    "        extenso = numero_por_extenso(numero)\n",
    "        print(f\"O número por extenso é: {extenso}\")\n",
    "    else:\n",
    "        print(f\"{numero} não é um número válido.\")\n",
    "\n",
    "escreva()\n",
    "\n"
   ]
  },
  {
   "cell_type": "code",
   "execution_count": 20,
   "metadata": {},
   "outputs": [
    {
     "name": "stdout",
     "output_type": "stream",
     "text": [
      "['Eu', 'Gosto', 'De', 'Programar']\n"
     ]
    }
   ],
   "source": [
    "#questão 11 metodo upper acho q é esse \n",
    "n = str(input('Digite a frase (apenas caracteres): '))\n",
    "# n = 'eu gosto de programar'\n",
    "palavras_cortadas = n.split()\n",
    "frase_maiuscula = []\n",
    "\n",
    "for palavra in palavras_cortadas:\n",
    "    palavra_maiuscula = palavra[0].upper() + palavra[1:]\n",
    "    frase_maiuscula.append(palavra_maiuscula)\n",
    "\n",
    "frase_maiuscula_formatado = ' '.join(frase_maiuscula)\n",
    "print(frase_maiuscula_formatado)"
   ]
  },
  {
   "cell_type": "code",
   "execution_count": null,
   "metadata": {},
   "outputs": [],
   "source": []
  }
 ],
 "metadata": {
  "kernelspec": {
   "display_name": "Python 3",
   "language": "python",
   "name": "python3"
  },
  "language_info": {
   "codemirror_mode": {
    "name": "ipython",
    "version": 3
   },
   "file_extension": ".py",
   "mimetype": "text/x-python",
   "name": "python",
   "nbconvert_exporter": "python",
   "pygments_lexer": "ipython3",
   "version": "3.10.11"
  }
 },
 "nbformat": 4,
 "nbformat_minor": 2
}
